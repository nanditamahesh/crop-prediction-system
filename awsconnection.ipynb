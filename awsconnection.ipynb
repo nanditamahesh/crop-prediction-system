{
 "cells": [
  {
   "cell_type": "code",
   "execution_count": 3,
   "id": "fea78a5e",
   "metadata": {},
   "outputs": [],
   "source": [
    "import boto3\n",
    "import os\n",
    "import requests\n",
    "import tqdm\n",
    "import re\n",
    "from decimal import Decimal\n",
    "from boto3.dynamodb.conditions import Key"
   ]
  },
  {
   "cell_type": "code",
   "execution_count": 4,
   "id": "1731fc1a",
   "metadata": {},
   "outputs": [],
   "source": [
    "dynamo_client  =  boto3.resource(service_name = 'dynamodb',region_name = 'ap-northeast-1', aws_access_key_id = '', aws_secret_access_key = '') #Enter key names"
   ]
  },
  {
   "cell_type": "code",
   "execution_count": 5,
   "id": "a6b316cc",
   "metadata": {},
   "outputs": [],
   "source": [
    "dht3 = dynamo_client.Table('dht_rain')\n",
    "response = dht3.query(\n",
    "    KeyConditionExpression=Key(\"date\").eq(\"2023-04-03\"),\n",
    "    ScanIndexForward=False,  # set to false to get the latest record\n",
    "    Limit=1  # limit to only 1 result\n",
    ")"
   ]
  },
  {
   "cell_type": "code",
   "execution_count": 6,
   "id": "1b49e701",
   "metadata": {},
   "outputs": [
    {
     "data": {
      "text/plain": [
       "[{'rainfall': Decimal('662'),\n",
       "  'date': '2023-04-03',\n",
       "  'humidity': Decimal('69'),\n",
       "  'id': Decimal('20'),\n",
       "  'temperature': Decimal('30.3')}]"
      ]
     },
     "execution_count": 6,
     "metadata": {},
     "output_type": "execute_result"
    }
   ],
   "source": [
    "values = response['Items']\n",
    "values"
   ]
  }
 ],
 "metadata": {
  "kernelspec": {
   "display_name": "Python 3 (ipykernel)",
   "language": "python",
   "name": "python3"
  },
  "language_info": {
   "codemirror_mode": {
    "name": "ipython",
    "version": 3
   },
   "file_extension": ".py",
   "mimetype": "text/x-python",
   "name": "python",
   "nbconvert_exporter": "python",
   "pygments_lexer": "ipython3",
   "version": "3.9.13"
  }
 },
 "nbformat": 4,
 "nbformat_minor": 5
}
